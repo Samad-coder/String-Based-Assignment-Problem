{
  "nbformat": 4,
  "nbformat_minor": 0,
  "metadata": {
    "colab": {
      "provenance": []
    },
    "kernelspec": {
      "name": "python3",
      "display_name": "Python 3"
    },
    "language_info": {
      "name": "python"
    }
  },
  "cells": [
    {
      "cell_type": "code",
      "execution_count": null,
      "metadata": {
        "id": "MiAaW81GVPUv"
      },
      "outputs": [],
      "source": [
        "#Write a program to reverse a string.\n",
        "a = \"Abdul Samad\"\n",
        "b = a[::-1]\n",
        "print(b)"
      ]
    },
    {
      "cell_type": "code",
      "source": [
        "#Check if a string is a palindrome.\n",
        "a = \"radar\"\n",
        "b = \"\"\n",
        "for i in a:\n",
        "    b = i + b\n",
        "if (b==a):\n",
        "  print(\"string is a palindrome\")\n",
        "else:\n",
        "  print(\"string is not a palindrome\")\n"
      ],
      "metadata": {
        "id": "8vSJszfBVv9y"
      },
      "execution_count": null,
      "outputs": []
    },
    {
      "cell_type": "code",
      "source": [
        "#Convert a string to uppercase.\n",
        "a = \"samad\"\n",
        "b= a.upper()\n",
        "print(b)\n"
      ],
      "metadata": {
        "id": "OpzLlT-6awYD"
      },
      "execution_count": null,
      "outputs": []
    },
    {
      "cell_type": "code",
      "source": [
        "#Convert a string to lowercase.\n",
        "a = \"SAMAD\"\n",
        "b= a.lower()\n",
        "print(b)"
      ],
      "metadata": {
        "colab": {
          "base_uri": "https://localhost:8080/"
        },
        "id": "DmyD99xxa7eo",
        "outputId": "fa7f4a39-3136-4596-8f40-661288bc12bd"
      },
      "execution_count": null,
      "outputs": [
        {
          "output_type": "stream",
          "name": "stdout",
          "text": [
            "samad\n"
          ]
        }
      ]
    },
    {
      "cell_type": "code",
      "source": [
        "#Count the number of vowels in a string.\n",
        "a = \"SamadKhan\"\n",
        "vowel = ['a','e','i','o','u']\n",
        "count = 0\n",
        "for i in a:\n",
        "  if i in vowel:\n",
        "    count = count+1\n",
        "print(count)"
      ],
      "metadata": {
        "id": "aIETycSEbEAH"
      },
      "execution_count": null,
      "outputs": []
    },
    {
      "cell_type": "code",
      "source": [
        "#Count the number of consonants in a string.\n",
        "a = \"SamadKhan\"\n",
        "vowel = ['a','e','i','o','u']\n",
        "count = 0\n",
        "for i in a:\n",
        "  if i not in vowel:\n",
        "    count = count+1\n",
        "print(count)"
      ],
      "metadata": {
        "colab": {
          "base_uri": "https://localhost:8080/"
        },
        "id": "xcZeDQ6-b3Kc",
        "outputId": "f962f063-43c0-4880-ac87-cf69639c6ed6"
      },
      "execution_count": null,
      "outputs": [
        {
          "output_type": "stream",
          "name": "stdout",
          "text": [
            "6\n"
          ]
        }
      ]
    },
    {
      "cell_type": "code",
      "source": [
        "#Remove all whitespaces from a string.\n",
        "a = \"Abdul Samad Khan\"\n",
        "b = \"\"\n",
        "for i in a:\n",
        "  if  i != \" \":\n",
        "    b = b +i\n",
        "print(b)"
      ],
      "metadata": {
        "colab": {
          "base_uri": "https://localhost:8080/"
        },
        "id": "o97QAgNicx2b",
        "outputId": "25e6e882-ca07-4612-ff88-059de8673cc1"
      },
      "execution_count": null,
      "outputs": [
        {
          "output_type": "stream",
          "name": "stdout",
          "text": [
            "AbdulSamadKhan\n"
          ]
        }
      ]
    },
    {
      "cell_type": "code",
      "source": [
        "# Find the length of a string without using the `len()` function.\n",
        "a = \"ABDUL SAMAD KHAN\"\n",
        "length = 0\n",
        "for i in a:\n",
        "  length = 1 + length\n",
        "print(length)"
      ],
      "metadata": {
        "colab": {
          "base_uri": "https://localhost:8080/"
        },
        "id": "Vea8TReAd1Jw",
        "outputId": "e193044d-cf30-4def-caa3-ef0112225af8"
      },
      "execution_count": null,
      "outputs": [
        {
          "output_type": "stream",
          "name": "stdout",
          "text": [
            "16\n"
          ]
        }
      ]
    },
    {
      "cell_type": "code",
      "source": [
        "#Check if a string contains a specific word.\n",
        "a = \"ABDUL SAMAD KHAN\"\n",
        "if  \"N\" in a:\n",
        " print((\"string contains a specific word\"))\n",
        "else:\n",
        "  print(\"stringdoes not contains a specific word\")"
      ],
      "metadata": {
        "colab": {
          "base_uri": "https://localhost:8080/"
        },
        "id": "sp315T-1eakZ",
        "outputId": "c8278aee-d153-459e-c388-a354c8cfbbad"
      },
      "execution_count": null,
      "outputs": [
        {
          "output_type": "stream",
          "name": "stdout",
          "text": [
            "string contains a specific word\n"
          ]
        }
      ]
    },
    {
      "cell_type": "code",
      "source": [
        "#Replace a word in a string with another word.\n",
        "a = \"Hello Samad\"\n",
        "b = a.replace(\"Samad\", \"Abdul\")\n",
        "print(b)"
      ],
      "metadata": {
        "colab": {
          "base_uri": "https://localhost:8080/"
        },
        "id": "610EaFykf2rD",
        "outputId": "4b9f8775-6bfd-4a6b-fcb0-ac078ed60f94"
      },
      "execution_count": null,
      "outputs": [
        {
          "output_type": "stream",
          "name": "stdout",
          "text": [
            "Hello Abdul\n"
          ]
        }
      ]
    },
    {
      "cell_type": "code",
      "source": [
        "#Count the occurrences of a word in a string.\n",
        "a = \"ABDUL SAMAD KHAN\"\n",
        "b = \"A\"\n",
        "count = 0\n",
        "for  i in a:\n",
        "  if i ==b:\n",
        "    count = count + 1\n",
        "print(count)"
      ],
      "metadata": {
        "colab": {
          "base_uri": "https://localhost:8080/"
        },
        "id": "oRMne4vbgafU",
        "outputId": "ef68437c-0771-4199-8d91-bf36bf62767c"
      },
      "execution_count": null,
      "outputs": [
        {
          "output_type": "stream",
          "name": "stdout",
          "text": [
            "4\n"
          ]
        }
      ]
    },
    {
      "cell_type": "code",
      "source": [
        "#Find the first occurrence of a word in a string.\n",
        "a = \"ABDUL SAMAD KHAN\"\n",
        "print(a.find(\"L\"))"
      ],
      "metadata": {
        "colab": {
          "base_uri": "https://localhost:8080/"
        },
        "id": "fJTBB70ThBaG",
        "outputId": "2b04f2a1-0e5f-4437-b990-b1cdaefb2a5c"
      },
      "execution_count": null,
      "outputs": [
        {
          "output_type": "stream",
          "name": "stdout",
          "text": [
            "4\n"
          ]
        }
      ]
    },
    {
      "cell_type": "code",
      "source": [
        "#Find the last occurrence of a word in a string.\n",
        "a = \"ABDUL SAMAD KHAN\"\n",
        "print(a.rfind(\"A\"))"
      ],
      "metadata": {
        "colab": {
          "base_uri": "https://localhost:8080/"
        },
        "id": "pZOSuYgTiaaO",
        "outputId": "07e6cb03-88cc-4019-d378-18d86df28fff"
      },
      "execution_count": null,
      "outputs": [
        {
          "output_type": "stream",
          "name": "stdout",
          "text": [
            "14\n"
          ]
        }
      ]
    },
    {
      "cell_type": "code",
      "source": [
        "#Split a string into a list of words.\n",
        "a = \"ABDUL SAMAD KHAN\"\n",
        "b = a.split()\n",
        "print(b)"
      ],
      "metadata": {
        "colab": {
          "base_uri": "https://localhost:8080/"
        },
        "id": "7uDWCltUitLz",
        "outputId": "c3cab2f8-33e8-4339-90e5-92b36363dbc6"
      },
      "execution_count": null,
      "outputs": [
        {
          "output_type": "stream",
          "name": "stdout",
          "text": [
            "['ABDUL', 'SAMAD', 'KHAN']\n"
          ]
        }
      ]
    },
    {
      "cell_type": "code",
      "source": [
        "#Join a list of words into a string.\n",
        "a = ['ABDUL', 'SAMAD', 'KHAN']\n",
        "b= \" \".join(a)\n",
        "print(b)"
      ],
      "metadata": {
        "colab": {
          "base_uri": "https://localhost:8080/"
        },
        "id": "YKmltdlWmbuf",
        "outputId": "7bdb28f6-63cd-412d-ab64-12c53641ab7b"
      },
      "execution_count": null,
      "outputs": [
        {
          "output_type": "stream",
          "name": "stdout",
          "text": [
            "ABDUL SAMAD KHAN\n"
          ]
        },
        {
          "output_type": "execute_result",
          "data": {
            "text/plain": [
              "str"
            ]
          },
          "metadata": {},
          "execution_count": 60
        }
      ]
    },
    {
      "cell_type": "code",
      "source": [
        "#Convert a string where words are separated by spaces to one where words are separated by underscores.\n",
        "a = \"ABDUL SAMAD KHAN\"\n",
        "b = a.replace(\" \", \"_\")\n",
        "print(b)"
      ],
      "metadata": {
        "colab": {
          "base_uri": "https://localhost:8080/"
        },
        "id": "eSnsUwX2nNwC",
        "outputId": "37f14011-a740-4e29-f8c4-a2a2ad1f6a68"
      },
      "execution_count": null,
      "outputs": [
        {
          "output_type": "stream",
          "name": "stdout",
          "text": [
            "ABDUL_SAMAD_KHAN\n"
          ]
        }
      ]
    },
    {
      "cell_type": "code",
      "source": [
        "#Check if a string ends with a specific word or phrase.\n",
        "a = \"ABDUL SAMAD KHAN\"\n",
        "b = \"N\"\n",
        "if a[-1] == b:\n",
        "  print(\"Yes\")\n",
        "else:\n",
        "  print(\"No\")"
      ],
      "metadata": {
        "colab": {
          "base_uri": "https://localhost:8080/"
        },
        "id": "51966Xcpoe8m",
        "outputId": "c80764f2-d86d-430a-f327-be8d64af8ba7"
      },
      "execution_count": null,
      "outputs": [
        {
          "output_type": "stream",
          "name": "stdout",
          "text": [
            "Yes\n"
          ]
        }
      ]
    },
    {
      "cell_type": "code",
      "source": [
        "#Convert a string to title case (e.g., \"hello world\" to \"Hello World\").\n",
        "a = \"hello world\"\n",
        "b = a.title()\n",
        "print(b)"
      ],
      "metadata": {
        "colab": {
          "base_uri": "https://localhost:8080/"
        },
        "id": "H64y0GoppRMe",
        "outputId": "9a2da988-b3ea-4891-a9f1-edbb53d73bbb"
      },
      "execution_count": null,
      "outputs": [
        {
          "output_type": "stream",
          "name": "stdout",
          "text": [
            "Hello World\n"
          ]
        }
      ]
    },
    {
      "cell_type": "code",
      "source": [
        "#Find the longest word in a string.\n",
        "a = \"My Name is SAMAD KHAN\"\n",
        "b = a. split()\n",
        "longest_word = max(b, key = len)\n",
        "print(longest_word)"
      ],
      "metadata": {
        "colab": {
          "base_uri": "https://localhost:8080/"
        },
        "id": "d0eAE4U7ptFj",
        "outputId": "3b92fb03-3752-4597-fa2f-68b052961bf4"
      },
      "execution_count": null,
      "outputs": [
        {
          "output_type": "stream",
          "name": "stdout",
          "text": [
            "SAMAD\n"
          ]
        }
      ]
    },
    {
      "cell_type": "code",
      "source": [
        "#Find the shortest word in a string.\n",
        "a = \"My Name is SAMAD KHAN\"\n",
        "b = a. split()\n",
        "smallest_word = min(b, key = len)\n",
        "print(smallest_word)"
      ],
      "metadata": {
        "colab": {
          "base_uri": "https://localhost:8080/"
        },
        "id": "IDaZVKSbq0R0",
        "outputId": "137ddb16-8e9d-4e4a-dc14-7de16be64b40"
      },
      "execution_count": null,
      "outputs": [
        {
          "output_type": "stream",
          "name": "stdout",
          "text": [
            "My\n"
          ]
        }
      ]
    },
    {
      "cell_type": "code",
      "source": [
        "#Reverse the order of words in a string.\n",
        "a = 'Abdul Samad'\n",
        "b = a.split()\n",
        "b = list(reversed(b))\n",
        "print(\" \".join(b))"
      ],
      "metadata": {
        "colab": {
          "base_uri": "https://localhost:8080/"
        },
        "id": "KD1FuF9WZ7Mj",
        "outputId": "6819bb6b-e097-420d-ec3d-8cd91bb3f3aa"
      },
      "execution_count": null,
      "outputs": [
        {
          "output_type": "stream",
          "name": "stdout",
          "text": [
            "Samad Abdul\n"
          ]
        }
      ]
    },
    {
      "cell_type": "code",
      "source": [
        "#Check if a string is alphanumeric.\n",
        "a = 'Iam28'\n",
        "print(a.isalnum())"
      ],
      "metadata": {
        "colab": {
          "base_uri": "https://localhost:8080/"
        },
        "id": "1KR6E1GZbG9t",
        "outputId": "50b6b340-acc6-4d3f-e1b8-a830189ea127"
      },
      "execution_count": null,
      "outputs": [
        {
          "output_type": "stream",
          "name": "stdout",
          "text": [
            "True\n"
          ]
        }
      ]
    },
    {
      "cell_type": "code",
      "source": [
        "#Extract all digits from a string.\n",
        "a = 'Iam28'\n",
        "digit = \" \"\n",
        "for c in a:\n",
        "    if c.isdigit():\n",
        "        digit = digit + c\n",
        "print(digit)"
      ],
      "metadata": {
        "colab": {
          "base_uri": "https://localhost:8080/"
        },
        "id": "DWXSAGnldH0W",
        "outputId": "4f5dd863-0013-4306-8a81-b4592c054e2b"
      },
      "execution_count": null,
      "outputs": [
        {
          "output_type": "stream",
          "name": "stdout",
          "text": [
            " 28\n"
          ]
        }
      ]
    },
    {
      "cell_type": "code",
      "source": [
        "#Extract all alphabets from a string.\n",
        "def extract_alphabets(input_string):\n",
        "    alphabets = ' '.join([char for char in input_string if char.isalpha()])\n",
        "    return alphabets\n",
        "\n",
        "a = \"Iam28Year\"\n",
        "b = extract_alphabets(a)\n",
        "print(b)"
      ],
      "metadata": {
        "colab": {
          "base_uri": "https://localhost:8080/"
        },
        "id": "aeMDqtsNeCwJ",
        "outputId": "095e5d4f-fc22-41d6-a936-4808138cf504"
      },
      "execution_count": null,
      "outputs": [
        {
          "output_type": "stream",
          "name": "stdout",
          "text": [
            "I a m Y e a r\n"
          ]
        }
      ]
    },
    {
      "cell_type": "code",
      "source": [
        "#Count the number of uppercase letters in a string.\n",
        "def count_uppercase(input_string):\n",
        "    uppercase_count = sum(1 for char in input_string if char.isupper())\n",
        "    return uppercase_count\n",
        "\n",
        "input_string = \"ABDULSamad\"\n",
        "result = count_uppercase(input_string)\n",
        "print(result)"
      ],
      "metadata": {
        "colab": {
          "base_uri": "https://localhost:8080/"
        },
        "id": "BTvpu5tjgPlD",
        "outputId": "56aa8013-b44f-46e1-e4e1-75d21f36c5f5"
      },
      "execution_count": null,
      "outputs": [
        {
          "output_type": "stream",
          "name": "stdout",
          "text": [
            "6\n"
          ]
        }
      ]
    },
    {
      "cell_type": "code",
      "source": [
        "#Count the number of lowercase letters in a string.\n",
        "def count_lowercase(input_string):\n",
        "    lower_count = sum(1 for char in input_string if char.islower())\n",
        "    return lower_count\n",
        "\n",
        "input_string = \"ABDULSamad\"\n",
        "result = count_lowercase(input_string)\n",
        "print(result)"
      ],
      "metadata": {
        "colab": {
          "base_uri": "https://localhost:8080/"
        },
        "id": "6DEcUUO_gn_w",
        "outputId": "370b5f6b-3c0b-4e29-d908-52b036324a9b"
      },
      "execution_count": null,
      "outputs": [
        {
          "output_type": "stream",
          "name": "stdout",
          "text": [
            "4\n"
          ]
        }
      ]
    },
    {
      "cell_type": "code",
      "source": [
        "#Swap the case of each character in a string.\n",
        "def swapcase(input):\n",
        "  string = input.swapcase()\n",
        "  return string\n",
        "\n",
        "string = 'ABDULsamad'\n",
        "result = swapcase(string)\n",
        "print(result)"
      ],
      "metadata": {
        "colab": {
          "base_uri": "https://localhost:8080/"
        },
        "id": "AC7AwrX1lVba",
        "outputId": "8a1ddfd6-7f69-49a2-cbfa-9b54f2dd8662"
      },
      "execution_count": null,
      "outputs": [
        {
          "output_type": "stream",
          "name": "stdout",
          "text": [
            "abdulSAMAD\n"
          ]
        }
      ]
    },
    {
      "cell_type": "code",
      "source": [
        "#Remove a specific word from a string.\n",
        "def remove_word(input_string, word_to_remove):\n",
        "    words = input_string.split()  # Split the input string into a list of words\n",
        "    filtered_words = [word for word in words if word != word_to_remove]  # Create a new list excluding the word to remove\n",
        "    modified_string = ' '.join(filtered_words)  # Join the filtered words back into a string\n",
        "    return modified_string\n",
        "\n",
        "# Example input string and word to remove\n",
        "input_string = \"Hello world, welcome to the world of programming.\"\n",
        "word_to_remove = \"world\"\n",
        "result = remove_word(input_string, word_to_remove)\n",
        "print(result)"
      ],
      "metadata": {
        "colab": {
          "base_uri": "https://localhost:8080/"
        },
        "id": "Z4s4HunDncBK",
        "outputId": "1729b3b1-7bdc-4ce3-8065-ec6bd62966a3"
      },
      "execution_count": null,
      "outputs": [
        {
          "output_type": "stream",
          "name": "stdout",
          "text": [
            "Hello world, welcome to the of programming.\n"
          ]
        }
      ]
    },
    {
      "cell_type": "code",
      "source": [
        "#Check if a string is a valid email address.\n",
        "import re\n",
        "def is_valid_email(email):\n",
        "    pattern = r'^[\\w\\.-]+@[\\w\\.-]+\\.\\w+$'  # Regular expression pattern for a basic email validation\n",
        "    if re.match(pattern, email):\n",
        "        return True\n",
        "    else:\n",
        "        return False\n",
        "\n",
        "# Example email addresses\n",
        "email1 = \"example@email.com\"\n",
        "email2 = \"invalid-email\"\n",
        "result1 = is_valid_email(email1)\n",
        "result2 = is_valid_email(email2)\n",
        "print(result1)\n",
        "print(result2)"
      ],
      "metadata": {
        "colab": {
          "base_uri": "https://localhost:8080/"
        },
        "id": "mNaaMuF7nxnu",
        "outputId": "ffe5062e-9556-4a05-bb29-473c47131239"
      },
      "execution_count": null,
      "outputs": [
        {
          "output_type": "stream",
          "name": "stdout",
          "text": [
            "True\n",
            "False\n"
          ]
        }
      ]
    },
    {
      "cell_type": "code",
      "source": [
        "# Extract the username from an email address string.\n",
        "def extract_username(email):\n",
        "    username = email.split('@')[0]\n",
        "    return username\n",
        "\n",
        "email = \"samad.online94@email.com\"\n",
        "result = extract_username(email)\n",
        "print(result)"
      ],
      "metadata": {
        "colab": {
          "base_uri": "https://localhost:8080/"
        },
        "id": "p-1PKgdI26WY",
        "outputId": "22e47213-2a3b-4e73-8a54-ad05e5ff5891"
      },
      "execution_count": 3,
      "outputs": [
        {
          "output_type": "stream",
          "name": "stdout",
          "text": [
            "samad.online94\n"
          ]
        }
      ]
    },
    {
      "cell_type": "code",
      "source": [
        "#Replace multiple spaces in a string with a single space.\n",
        "def replace_multiple_spaces(input_string):\n",
        "    cleaned_string = ' '.join(input_string.split())\n",
        "    return cleaned_string\n",
        "\n",
        "input_string = \"Hello     world!   How   are   you?\"\n",
        "result = replace_multiple_spaces(input_string)\n",
        "print(result)"
      ],
      "metadata": {
        "colab": {
          "base_uri": "https://localhost:8080/"
        },
        "id": "fXWr4jWk3QAV",
        "outputId": "78bf49af-233e-401f-d502-d504fec64da3"
      },
      "execution_count": 4,
      "outputs": [
        {
          "output_type": "stream",
          "name": "stdout",
          "text": [
            "Hello world! How are you?\n"
          ]
        }
      ]
    },
    {
      "cell_type": "code",
      "source": [
        "#Check if a string is a valid URL.\n",
        "from urllib.parse import urlparse\n",
        "\n",
        "def is_valid_url(url):\n",
        "    try:\n",
        "        result = urlparse(url)\n",
        "        return all([result.scheme, result.netloc])  # Check if both scheme and netloc are present\n",
        "    except ValueError:\n",
        "        return False\n",
        "\n",
        "\n",
        "url1 = \"https://www.samad.com\"\n",
        "url2 = \"invalid-url\"\n",
        "result1 = is_valid_url(url1)\n",
        "result2 = is_valid_url(url2)\n",
        "print(result1)  # Should print True\n",
        "print(result2)  # Should print False"
      ],
      "metadata": {
        "colab": {
          "base_uri": "https://localhost:8080/"
        },
        "id": "EHtf3pIU4HOp",
        "outputId": "97db673a-d92e-4be3-a4d2-3c505a7b11e8"
      },
      "execution_count": 8,
      "outputs": [
        {
          "output_type": "stream",
          "name": "stdout",
          "text": [
            "True\n",
            "False\n"
          ]
        }
      ]
    },
    {
      "cell_type": "code",
      "source": [
        "#Find the frequency of each character in a string.\n",
        "def character_frequency(input_string):\n",
        "    frequency = {}  # Create an empty dictionary to store character frequencies\n",
        "\n",
        "    for char in input_string:\n",
        "        if char in frequency:\n",
        "            frequency[char] += 1  # Increment the frequency count if the character is already in the dictionary\n",
        "        else:\n",
        "            frequency[char] = 1   # Initialize the frequency count to 1 if the character is not in the dictionary\n",
        "\n",
        "    return frequency\n",
        "\n",
        "# Example string\n",
        "input_str = \"hello world\"\n",
        "\n",
        "# Calculate character frequencies\n",
        "char_freq = character_frequency(input_str)\n",
        "\n",
        "# Print character frequencies\n",
        "for char, freq in char_freq.items():\n",
        "    print(f\"Character: '{char}', Frequency: {freq}\")"
      ],
      "metadata": {
        "colab": {
          "base_uri": "https://localhost:8080/"
        },
        "id": "ph1xE7N04hF_",
        "outputId": "691ec090-6fac-43f5-e258-22ce452b177f"
      },
      "execution_count": 9,
      "outputs": [
        {
          "output_type": "stream",
          "name": "stdout",
          "text": [
            "Character: 'h', Frequency: 1\n",
            "Character: 'e', Frequency: 1\n",
            "Character: 'l', Frequency: 3\n",
            "Character: 'o', Frequency: 2\n",
            "Character: ' ', Frequency: 1\n",
            "Character: 'w', Frequency: 1\n",
            "Character: 'r', Frequency: 1\n",
            "Character: 'd', Frequency: 1\n"
          ]
        }
      ]
    },
    {
      "cell_type": "code",
      "source": [
        "#Convert a CSV string to a list of lists.\n",
        "def csv_string_to_list(csv_string):\n",
        "    # Split the CSV string into lines\n",
        "    lines = csv_string.split('\\n')\n",
        "\n",
        "    # Initialize an empty list to store the result\n",
        "    result = []\n",
        "\n",
        "    for line in lines:\n",
        "        # Split each line into fields using comma as the delimiter\n",
        "        fields = line.split(',')\n",
        "\n",
        "        # Append the fields to the result list as a row\n",
        "        result.append(fields)\n",
        "\n",
        "    return result\n",
        "\n",
        "# Example CSV string\n",
        "csv_data = \"Name, Age, Country\\nJohn, 25, USA\\nAlice, 30, Canada\\nBob, 22, UK\"\n",
        "\n",
        "# Convert CSV string to a list of lists\n",
        "list_of_lists = csv_string_to_list(csv_data)\n",
        "\n",
        "# Print the result\n",
        "for row in list_of_lists:\n",
        "    print(row)"
      ],
      "metadata": {
        "colab": {
          "base_uri": "https://localhost:8080/"
        },
        "id": "_IV2YGXf5Bzm",
        "outputId": "18a78f36-7105-4bb8-cce4-d768dbb8a85d"
      },
      "execution_count": 10,
      "outputs": [
        {
          "output_type": "stream",
          "name": "stdout",
          "text": [
            "['Name', ' Age', ' Country']\n",
            "['John', ' 25', ' USA']\n",
            "['Alice', ' 30', ' Canada']\n",
            "['Bob', ' 22', ' UK']\n"
          ]
        }
      ]
    },
    {
      "cell_type": "code",
      "source": [
        "List Based Practice Problem :"
      ],
      "metadata": {
        "id": "hA3NkGWi5ewO"
      },
      "execution_count": null,
      "outputs": []
    },
    {
      "cell_type": "markdown",
      "source": [],
      "metadata": {
        "id": "-MpbYlqs5hSl"
      }
    },
    {
      "cell_type": "code",
      "source": [
        "#Create a list with integers from 1 to 10.\n",
        "integer_list = [i for i in range(1, 11)]\n",
        "\n",
        "# Print the list\n",
        "print(integer_list)"
      ],
      "metadata": {
        "colab": {
          "base_uri": "https://localhost:8080/"
        },
        "id": "rW2ehXx85p64",
        "outputId": "58806f89-a5dd-41b5-931e-f5c7331ab9ed"
      },
      "execution_count": 11,
      "outputs": [
        {
          "output_type": "stream",
          "name": "stdout",
          "text": [
            "[1, 2, 3, 4, 5, 6, 7, 8, 9, 10]\n"
          ]
        }
      ]
    },
    {
      "cell_type": "code",
      "source": [
        "#Find the length of a list without using the `len()` function.\n",
        "def custom_len(input_list):\n",
        "    count = 0\n",
        "    for _ in input_list:\n",
        "        count += 1\n",
        "    return count\n",
        "\n",
        "# Example list\n",
        "my_list = [10, 20, 30, 40, 50]\n",
        "\n",
        "# Find the length of the list using the custom_len function\n",
        "length = custom_len(my_list)\n",
        "\n",
        "# Print the length of the list\n",
        "print(\"Length of the list:\", length)"
      ],
      "metadata": {
        "colab": {
          "base_uri": "https://localhost:8080/"
        },
        "id": "oi_ggCd76NxN",
        "outputId": "2e4188a0-dacd-48dc-9dff-90f065a1a230"
      },
      "execution_count": 12,
      "outputs": [
        {
          "output_type": "stream",
          "name": "stdout",
          "text": [
            "Length of the list: 5\n"
          ]
        }
      ]
    },
    {
      "cell_type": "code",
      "source": [
        "#Check if an element exists in a list.\n",
        "my_list = [10, 20, 30, 40, 50]\n",
        "\n",
        "# Element to check\n",
        "element_to_check = 30\n",
        "\n",
        "# Check if the element exists in the list\n",
        "if element_to_check in my_list:\n",
        "    print(f\"{element_to_check} exists in the list.\")\n",
        "else:\n",
        "    print(f\"{element_to_check} does not exist in the list.\")"
      ],
      "metadata": {
        "colab": {
          "base_uri": "https://localhost:8080/"
        },
        "id": "nmC4saQS6Y0h",
        "outputId": "886fc2c2-7609-47da-f7f3-fba64775b51f"
      },
      "execution_count": 13,
      "outputs": [
        {
          "output_type": "stream",
          "name": "stdout",
          "text": [
            "30 exists in the list.\n"
          ]
        }
      ]
    },
    {
      "cell_type": "code",
      "source": [
        "#Flatten a nested list.\n",
        "nested_list = [[1, 2, 3], [4, 5], [6, 7, 8, 9]]\n",
        "\n",
        "# Function to flatten a nested list\n",
        "def flatten_list(nested):\n",
        "    flattened = []\n",
        "    for sublist in nested:\n",
        "        if isinstance(sublist, list):\n",
        "            flattened.extend(flatten_list(sublist))\n",
        "        else:\n",
        "            flattened.append(sublist)\n",
        "    return flattened\n",
        "\n",
        "# Flatten the nested list\n",
        "flattened_list = flatten_list(nested_list)\n",
        "\n",
        "# Print the flattened list\n",
        "print(\"Flattened list:\", flattened_list)"
      ],
      "metadata": {
        "colab": {
          "base_uri": "https://localhost:8080/"
        },
        "id": "8hgvkuK77DxA",
        "outputId": "81a3abb0-3817-4a2a-b4bb-4ad378393d3b"
      },
      "execution_count": 14,
      "outputs": [
        {
          "output_type": "stream",
          "name": "stdout",
          "text": [
            "Flattened list: [1, 2, 3, 4, 5, 6, 7, 8, 9]\n"
          ]
        }
      ]
    },
    {
      "cell_type": "code",
      "source": [
        "# Function to rotate a list to the left by n positions\n",
        "def rotate_left(lst, n):\n",
        "    n = n % len(lst)  # Normalize n to handle cases where n is larger than the list length\n",
        "    # print(n)\n",
        "    rotated = lst[n:] + lst[:n]\n",
        "    return rotated\n",
        "\n",
        "# Example list\n",
        "my_list = [1, 2, 3, 4, 5, 6]\n",
        "\n",
        "# Number of positions to rotate by\n",
        "n = 2\n",
        "\n",
        "# Rotate the list to the left by n positions\n",
        "rotated_list = rotate_left(my_list, n)\n",
        "\n",
        "# Print the rotated list\n",
        "print(\"Rotated list:\", rotated_list)"
      ],
      "metadata": {
        "colab": {
          "base_uri": "https://localhost:8080/"
        },
        "id": "ilfvS1xH8T2j",
        "outputId": "cf0aea3d-b935-4570-c84a-730c1936e131"
      },
      "execution_count": 15,
      "outputs": [
        {
          "output_type": "stream",
          "name": "stdout",
          "text": [
            "Rotated list: [3, 4, 5, 6, 1, 2]\n"
          ]
        }
      ]
    },
    {
      "cell_type": "markdown",
      "source": [],
      "metadata": {
        "id": "AHYZXjzn9gIs"
      }
    }
  ]
}